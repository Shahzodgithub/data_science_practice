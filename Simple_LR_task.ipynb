{
  "nbformat": 4,
  "nbformat_minor": 0,
  "metadata": {
    "colab": {
      "name": "Simple_LR_task.ipynb",
      "provenance": [],
      "authorship_tag": "ABX9TyMZUuCYInJe9JhGevJT2km3",
      "include_colab_link": true
    },
    "kernelspec": {
      "name": "python3",
      "display_name": "Python 3"
    },
    "language_info": {
      "name": "python"
    }
  },
  "cells": [
    {
      "cell_type": "markdown",
      "metadata": {
        "id": "view-in-github",
        "colab_type": "text"
      },
      "source": [
        "<a href=\"https://colab.research.google.com/github/Shahzodgithub/data_science_practice/blob/main/Simple_LR_task.ipynb\" target=\"_parent\"><img src=\"https://colab.research.google.com/assets/colab-badge.svg\" alt=\"Open In Colab\"/></a>"
      ]
    },
    {
      "cell_type": "code",
      "execution_count": 1,
      "metadata": {
        "id": "HA8nA1LkLPY_"
      },
      "outputs": [],
      "source": [
        "import numpy as np\n",
        "import pandas as pd\n",
        "import matplotlib.pyplot as plt\n",
        "import seaborn as sns\n",
        "import sklearn"
      ]
    },
    {
      "cell_type": "code",
      "source": [
        "df = pd.read_csv('https://raw.githubusercontent.com/anvarnarz/praktikum_datasets/main/housing_LR.csv', index_col=0)\n",
        "df"
      ],
      "metadata": {
        "colab": {
          "base_uri": "https://localhost:8080/",
          "height": 423
        },
        "id": "KBzYUSctLfvI",
        "outputId": "378629de-2257-4add-d0e2-c3f8be93953f"
      },
      "execution_count": 17,
      "outputs": [
        {
          "output_type": "execute_result",
          "data": {
            "text/plain": [
              "               district  rooms  size  level  max_levels    price\n",
              "0          Юнусабадский      3  57.0      4           4  52000.0\n",
              "1         Яккасарайский      2  52.0      4           5  56000.0\n",
              "2          Чиланзарский      2  42.0      4           4  37000.0\n",
              "3          Чиланзарский      3  65.0      1           4  49500.0\n",
              "4          Чиланзарский      3  70.0      3           5  55000.0\n",
              "...                 ...    ...   ...    ...         ...      ...\n",
              "7460        Яшнободский      1  38.0      5           5  24500.0\n",
              "7461        Яшнободский      2  49.0      1           4  32000.0\n",
              "7462    Шайхантахурский      2  64.0      3           9  40000.0\n",
              "7463  Мирзо-Улугбекский      1  18.0      1           4  11000.0\n",
              "7464       Чиланзарский      1  30.0      2           4  22914.0\n",
              "\n",
              "[7278 rows x 6 columns]"
            ],
            "text/html": [
              "\n",
              "  <div id=\"df-fdbb0c63-8009-40f1-9f64-c6cfc89e93c7\">\n",
              "    <div class=\"colab-df-container\">\n",
              "      <div>\n",
              "<style scoped>\n",
              "    .dataframe tbody tr th:only-of-type {\n",
              "        vertical-align: middle;\n",
              "    }\n",
              "\n",
              "    .dataframe tbody tr th {\n",
              "        vertical-align: top;\n",
              "    }\n",
              "\n",
              "    .dataframe thead th {\n",
              "        text-align: right;\n",
              "    }\n",
              "</style>\n",
              "<table border=\"1\" class=\"dataframe\">\n",
              "  <thead>\n",
              "    <tr style=\"text-align: right;\">\n",
              "      <th></th>\n",
              "      <th>district</th>\n",
              "      <th>rooms</th>\n",
              "      <th>size</th>\n",
              "      <th>level</th>\n",
              "      <th>max_levels</th>\n",
              "      <th>price</th>\n",
              "    </tr>\n",
              "  </thead>\n",
              "  <tbody>\n",
              "    <tr>\n",
              "      <th>0</th>\n",
              "      <td>Юнусабадский</td>\n",
              "      <td>3</td>\n",
              "      <td>57.0</td>\n",
              "      <td>4</td>\n",
              "      <td>4</td>\n",
              "      <td>52000.0</td>\n",
              "    </tr>\n",
              "    <tr>\n",
              "      <th>1</th>\n",
              "      <td>Яккасарайский</td>\n",
              "      <td>2</td>\n",
              "      <td>52.0</td>\n",
              "      <td>4</td>\n",
              "      <td>5</td>\n",
              "      <td>56000.0</td>\n",
              "    </tr>\n",
              "    <tr>\n",
              "      <th>2</th>\n",
              "      <td>Чиланзарский</td>\n",
              "      <td>2</td>\n",
              "      <td>42.0</td>\n",
              "      <td>4</td>\n",
              "      <td>4</td>\n",
              "      <td>37000.0</td>\n",
              "    </tr>\n",
              "    <tr>\n",
              "      <th>3</th>\n",
              "      <td>Чиланзарский</td>\n",
              "      <td>3</td>\n",
              "      <td>65.0</td>\n",
              "      <td>1</td>\n",
              "      <td>4</td>\n",
              "      <td>49500.0</td>\n",
              "    </tr>\n",
              "    <tr>\n",
              "      <th>4</th>\n",
              "      <td>Чиланзарский</td>\n",
              "      <td>3</td>\n",
              "      <td>70.0</td>\n",
              "      <td>3</td>\n",
              "      <td>5</td>\n",
              "      <td>55000.0</td>\n",
              "    </tr>\n",
              "    <tr>\n",
              "      <th>...</th>\n",
              "      <td>...</td>\n",
              "      <td>...</td>\n",
              "      <td>...</td>\n",
              "      <td>...</td>\n",
              "      <td>...</td>\n",
              "      <td>...</td>\n",
              "    </tr>\n",
              "    <tr>\n",
              "      <th>7460</th>\n",
              "      <td>Яшнободский</td>\n",
              "      <td>1</td>\n",
              "      <td>38.0</td>\n",
              "      <td>5</td>\n",
              "      <td>5</td>\n",
              "      <td>24500.0</td>\n",
              "    </tr>\n",
              "    <tr>\n",
              "      <th>7461</th>\n",
              "      <td>Яшнободский</td>\n",
              "      <td>2</td>\n",
              "      <td>49.0</td>\n",
              "      <td>1</td>\n",
              "      <td>4</td>\n",
              "      <td>32000.0</td>\n",
              "    </tr>\n",
              "    <tr>\n",
              "      <th>7462</th>\n",
              "      <td>Шайхантахурский</td>\n",
              "      <td>2</td>\n",
              "      <td>64.0</td>\n",
              "      <td>3</td>\n",
              "      <td>9</td>\n",
              "      <td>40000.0</td>\n",
              "    </tr>\n",
              "    <tr>\n",
              "      <th>7463</th>\n",
              "      <td>Мирзо-Улугбекский</td>\n",
              "      <td>1</td>\n",
              "      <td>18.0</td>\n",
              "      <td>1</td>\n",
              "      <td>4</td>\n",
              "      <td>11000.0</td>\n",
              "    </tr>\n",
              "    <tr>\n",
              "      <th>7464</th>\n",
              "      <td>Чиланзарский</td>\n",
              "      <td>1</td>\n",
              "      <td>30.0</td>\n",
              "      <td>2</td>\n",
              "      <td>4</td>\n",
              "      <td>22914.0</td>\n",
              "    </tr>\n",
              "  </tbody>\n",
              "</table>\n",
              "<p>7278 rows × 6 columns</p>\n",
              "</div>\n",
              "      <button class=\"colab-df-convert\" onclick=\"convertToInteractive('df-fdbb0c63-8009-40f1-9f64-c6cfc89e93c7')\"\n",
              "              title=\"Convert this dataframe to an interactive table.\"\n",
              "              style=\"display:none;\">\n",
              "        \n",
              "  <svg xmlns=\"http://www.w3.org/2000/svg\" height=\"24px\"viewBox=\"0 0 24 24\"\n",
              "       width=\"24px\">\n",
              "    <path d=\"M0 0h24v24H0V0z\" fill=\"none\"/>\n",
              "    <path d=\"M18.56 5.44l.94 2.06.94-2.06 2.06-.94-2.06-.94-.94-2.06-.94 2.06-2.06.94zm-11 1L8.5 8.5l.94-2.06 2.06-.94-2.06-.94L8.5 2.5l-.94 2.06-2.06.94zm10 10l.94 2.06.94-2.06 2.06-.94-2.06-.94-.94-2.06-.94 2.06-2.06.94z\"/><path d=\"M17.41 7.96l-1.37-1.37c-.4-.4-.92-.59-1.43-.59-.52 0-1.04.2-1.43.59L10.3 9.45l-7.72 7.72c-.78.78-.78 2.05 0 2.83L4 21.41c.39.39.9.59 1.41.59.51 0 1.02-.2 1.41-.59l7.78-7.78 2.81-2.81c.8-.78.8-2.07 0-2.86zM5.41 20L4 18.59l7.72-7.72 1.47 1.35L5.41 20z\"/>\n",
              "  </svg>\n",
              "      </button>\n",
              "      \n",
              "  <style>\n",
              "    .colab-df-container {\n",
              "      display:flex;\n",
              "      flex-wrap:wrap;\n",
              "      gap: 12px;\n",
              "    }\n",
              "\n",
              "    .colab-df-convert {\n",
              "      background-color: #E8F0FE;\n",
              "      border: none;\n",
              "      border-radius: 50%;\n",
              "      cursor: pointer;\n",
              "      display: none;\n",
              "      fill: #1967D2;\n",
              "      height: 32px;\n",
              "      padding: 0 0 0 0;\n",
              "      width: 32px;\n",
              "    }\n",
              "\n",
              "    .colab-df-convert:hover {\n",
              "      background-color: #E2EBFA;\n",
              "      box-shadow: 0px 1px 2px rgba(60, 64, 67, 0.3), 0px 1px 3px 1px rgba(60, 64, 67, 0.15);\n",
              "      fill: #174EA6;\n",
              "    }\n",
              "\n",
              "    [theme=dark] .colab-df-convert {\n",
              "      background-color: #3B4455;\n",
              "      fill: #D2E3FC;\n",
              "    }\n",
              "\n",
              "    [theme=dark] .colab-df-convert:hover {\n",
              "      background-color: #434B5C;\n",
              "      box-shadow: 0px 1px 3px 1px rgba(0, 0, 0, 0.15);\n",
              "      filter: drop-shadow(0px 1px 2px rgba(0, 0, 0, 0.3));\n",
              "      fill: #FFFFFF;\n",
              "    }\n",
              "  </style>\n",
              "\n",
              "      <script>\n",
              "        const buttonEl =\n",
              "          document.querySelector('#df-fdbb0c63-8009-40f1-9f64-c6cfc89e93c7 button.colab-df-convert');\n",
              "        buttonEl.style.display =\n",
              "          google.colab.kernel.accessAllowed ? 'block' : 'none';\n",
              "\n",
              "        async function convertToInteractive(key) {\n",
              "          const element = document.querySelector('#df-fdbb0c63-8009-40f1-9f64-c6cfc89e93c7');\n",
              "          const dataTable =\n",
              "            await google.colab.kernel.invokeFunction('convertToInteractive',\n",
              "                                                     [key], {});\n",
              "          if (!dataTable) return;\n",
              "\n",
              "          const docLinkHtml = 'Like what you see? Visit the ' +\n",
              "            '<a target=\"_blank\" href=https://colab.research.google.com/notebooks/data_table.ipynb>data table notebook</a>'\n",
              "            + ' to learn more about interactive tables.';\n",
              "          element.innerHTML = '';\n",
              "          dataTable['output_type'] = 'display_data';\n",
              "          await google.colab.output.renderOutput(dataTable, element);\n",
              "          const docLink = document.createElement('div');\n",
              "          docLink.innerHTML = docLinkHtml;\n",
              "          element.appendChild(docLink);\n",
              "        }\n",
              "      </script>\n",
              "    </div>\n",
              "  </div>\n",
              "  "
            ]
          },
          "metadata": {},
          "execution_count": 17
        }
      ]
    },
    {
      "cell_type": "code",
      "source": [
        "df['district'].value_counts()"
      ],
      "metadata": {
        "colab": {
          "base_uri": "https://localhost:8080/"
        },
        "id": "n4cWvaYTMIWp",
        "outputId": "fffea7e2-db03-4909-d01e-45472b265181"
      },
      "execution_count": 18,
      "outputs": [
        {
          "output_type": "execute_result",
          "data": {
            "text/plain": [
              "Чиланзарский         1616\n",
              "Мирзо-Улугбекский    1342\n",
              "Учтепинский           872\n",
              "Юнусабадский          847\n",
              "Мирабадский           717\n",
              "Яккасарайский         628\n",
              "Яшнободский           456\n",
              "Шайхантахурский       356\n",
              "Олмазорский           262\n",
              "Сергелийский          159\n",
              "Янгихаётский           15\n",
              "Бектемирский            8\n",
              "Name: district, dtype: int64"
            ]
          },
          "metadata": {},
          "execution_count": 18
        }
      ]
    },
    {
      "cell_type": "code",
      "source": [
        "housing = df[df.district=='Чиланзарский']\n",
        "housing.head()"
      ],
      "metadata": {
        "colab": {
          "base_uri": "https://localhost:8080/",
          "height": 206
        },
        "id": "L30PejPeMXRp",
        "outputId": "34bd3393-f670-451b-92c0-2b0d8f84b9d2"
      },
      "execution_count": 19,
      "outputs": [
        {
          "output_type": "execute_result",
          "data": {
            "text/plain": [
              "       district  rooms  size  level  max_levels    price\n",
              "2  Чиланзарский      2  42.0      4           4  37000.0\n",
              "3  Чиланзарский      3  65.0      1           4  49500.0\n",
              "4  Чиланзарский      3  70.0      3           5  55000.0\n",
              "5  Чиланзарский      1  28.0      1           4  25500.0\n",
              "6  Чиланзарский      1  30.0      2           4  21200.0"
            ],
            "text/html": [
              "\n",
              "  <div id=\"df-9189d3fe-ed75-4bc8-bc05-1d6c0f0a9e39\">\n",
              "    <div class=\"colab-df-container\">\n",
              "      <div>\n",
              "<style scoped>\n",
              "    .dataframe tbody tr th:only-of-type {\n",
              "        vertical-align: middle;\n",
              "    }\n",
              "\n",
              "    .dataframe tbody tr th {\n",
              "        vertical-align: top;\n",
              "    }\n",
              "\n",
              "    .dataframe thead th {\n",
              "        text-align: right;\n",
              "    }\n",
              "</style>\n",
              "<table border=\"1\" class=\"dataframe\">\n",
              "  <thead>\n",
              "    <tr style=\"text-align: right;\">\n",
              "      <th></th>\n",
              "      <th>district</th>\n",
              "      <th>rooms</th>\n",
              "      <th>size</th>\n",
              "      <th>level</th>\n",
              "      <th>max_levels</th>\n",
              "      <th>price</th>\n",
              "    </tr>\n",
              "  </thead>\n",
              "  <tbody>\n",
              "    <tr>\n",
              "      <th>2</th>\n",
              "      <td>Чиланзарский</td>\n",
              "      <td>2</td>\n",
              "      <td>42.0</td>\n",
              "      <td>4</td>\n",
              "      <td>4</td>\n",
              "      <td>37000.0</td>\n",
              "    </tr>\n",
              "    <tr>\n",
              "      <th>3</th>\n",
              "      <td>Чиланзарский</td>\n",
              "      <td>3</td>\n",
              "      <td>65.0</td>\n",
              "      <td>1</td>\n",
              "      <td>4</td>\n",
              "      <td>49500.0</td>\n",
              "    </tr>\n",
              "    <tr>\n",
              "      <th>4</th>\n",
              "      <td>Чиланзарский</td>\n",
              "      <td>3</td>\n",
              "      <td>70.0</td>\n",
              "      <td>3</td>\n",
              "      <td>5</td>\n",
              "      <td>55000.0</td>\n",
              "    </tr>\n",
              "    <tr>\n",
              "      <th>5</th>\n",
              "      <td>Чиланзарский</td>\n",
              "      <td>1</td>\n",
              "      <td>28.0</td>\n",
              "      <td>1</td>\n",
              "      <td>4</td>\n",
              "      <td>25500.0</td>\n",
              "    </tr>\n",
              "    <tr>\n",
              "      <th>6</th>\n",
              "      <td>Чиланзарский</td>\n",
              "      <td>1</td>\n",
              "      <td>30.0</td>\n",
              "      <td>2</td>\n",
              "      <td>4</td>\n",
              "      <td>21200.0</td>\n",
              "    </tr>\n",
              "  </tbody>\n",
              "</table>\n",
              "</div>\n",
              "      <button class=\"colab-df-convert\" onclick=\"convertToInteractive('df-9189d3fe-ed75-4bc8-bc05-1d6c0f0a9e39')\"\n",
              "              title=\"Convert this dataframe to an interactive table.\"\n",
              "              style=\"display:none;\">\n",
              "        \n",
              "  <svg xmlns=\"http://www.w3.org/2000/svg\" height=\"24px\"viewBox=\"0 0 24 24\"\n",
              "       width=\"24px\">\n",
              "    <path d=\"M0 0h24v24H0V0z\" fill=\"none\"/>\n",
              "    <path d=\"M18.56 5.44l.94 2.06.94-2.06 2.06-.94-2.06-.94-.94-2.06-.94 2.06-2.06.94zm-11 1L8.5 8.5l.94-2.06 2.06-.94-2.06-.94L8.5 2.5l-.94 2.06-2.06.94zm10 10l.94 2.06.94-2.06 2.06-.94-2.06-.94-.94-2.06-.94 2.06-2.06.94z\"/><path d=\"M17.41 7.96l-1.37-1.37c-.4-.4-.92-.59-1.43-.59-.52 0-1.04.2-1.43.59L10.3 9.45l-7.72 7.72c-.78.78-.78 2.05 0 2.83L4 21.41c.39.39.9.59 1.41.59.51 0 1.02-.2 1.41-.59l7.78-7.78 2.81-2.81c.8-.78.8-2.07 0-2.86zM5.41 20L4 18.59l7.72-7.72 1.47 1.35L5.41 20z\"/>\n",
              "  </svg>\n",
              "      </button>\n",
              "      \n",
              "  <style>\n",
              "    .colab-df-container {\n",
              "      display:flex;\n",
              "      flex-wrap:wrap;\n",
              "      gap: 12px;\n",
              "    }\n",
              "\n",
              "    .colab-df-convert {\n",
              "      background-color: #E8F0FE;\n",
              "      border: none;\n",
              "      border-radius: 50%;\n",
              "      cursor: pointer;\n",
              "      display: none;\n",
              "      fill: #1967D2;\n",
              "      height: 32px;\n",
              "      padding: 0 0 0 0;\n",
              "      width: 32px;\n",
              "    }\n",
              "\n",
              "    .colab-df-convert:hover {\n",
              "      background-color: #E2EBFA;\n",
              "      box-shadow: 0px 1px 2px rgba(60, 64, 67, 0.3), 0px 1px 3px 1px rgba(60, 64, 67, 0.15);\n",
              "      fill: #174EA6;\n",
              "    }\n",
              "\n",
              "    [theme=dark] .colab-df-convert {\n",
              "      background-color: #3B4455;\n",
              "      fill: #D2E3FC;\n",
              "    }\n",
              "\n",
              "    [theme=dark] .colab-df-convert:hover {\n",
              "      background-color: #434B5C;\n",
              "      box-shadow: 0px 1px 3px 1px rgba(0, 0, 0, 0.15);\n",
              "      filter: drop-shadow(0px 1px 2px rgba(0, 0, 0, 0.3));\n",
              "      fill: #FFFFFF;\n",
              "    }\n",
              "  </style>\n",
              "\n",
              "      <script>\n",
              "        const buttonEl =\n",
              "          document.querySelector('#df-9189d3fe-ed75-4bc8-bc05-1d6c0f0a9e39 button.colab-df-convert');\n",
              "        buttonEl.style.display =\n",
              "          google.colab.kernel.accessAllowed ? 'block' : 'none';\n",
              "\n",
              "        async function convertToInteractive(key) {\n",
              "          const element = document.querySelector('#df-9189d3fe-ed75-4bc8-bc05-1d6c0f0a9e39');\n",
              "          const dataTable =\n",
              "            await google.colab.kernel.invokeFunction('convertToInteractive',\n",
              "                                                     [key], {});\n",
              "          if (!dataTable) return;\n",
              "\n",
              "          const docLinkHtml = 'Like what you see? Visit the ' +\n",
              "            '<a target=\"_blank\" href=https://colab.research.google.com/notebooks/data_table.ipynb>data table notebook</a>'\n",
              "            + ' to learn more about interactive tables.';\n",
              "          element.innerHTML = '';\n",
              "          dataTable['output_type'] = 'display_data';\n",
              "          await google.colab.output.renderOutput(dataTable, element);\n",
              "          const docLink = document.createElement('div');\n",
              "          docLink.innerHTML = docLinkHtml;\n",
              "          element.appendChild(docLink);\n",
              "        }\n",
              "      </script>\n",
              "    </div>\n",
              "  </div>\n",
              "  "
            ]
          },
          "metadata": {},
          "execution_count": 19
        }
      ]
    },
    {
      "cell_type": "code",
      "source": [
        "x = housing['size']\n",
        "x"
      ],
      "metadata": {
        "colab": {
          "base_uri": "https://localhost:8080/"
        },
        "id": "nm07LfAAMcYt",
        "outputId": "0465c922-ad16-4ffe-e6fd-d9484fc97879"
      },
      "execution_count": 25,
      "outputs": [
        {
          "output_type": "execute_result",
          "data": {
            "text/plain": [
              "2       42.0\n",
              "3       65.0\n",
              "4       70.0\n",
              "5       28.0\n",
              "6       30.0\n",
              "        ... \n",
              "7404    70.0\n",
              "7422    20.0\n",
              "7433    32.0\n",
              "7445    70.0\n",
              "7464    30.0\n",
              "Name: size, Length: 1616, dtype: float64"
            ]
          },
          "metadata": {},
          "execution_count": 25
        }
      ]
    },
    {
      "cell_type": "code",
      "source": [
        "y = housing['price']\n",
        "y"
      ],
      "metadata": {
        "colab": {
          "base_uri": "https://localhost:8080/"
        },
        "id": "F_Mx00grMgjm",
        "outputId": "7fcec516-03d7-4156-c347-e490a60598c0"
      },
      "execution_count": 21,
      "outputs": [
        {
          "output_type": "execute_result",
          "data": {
            "text/plain": [
              "2       37000.0\n",
              "3       49500.0\n",
              "4       55000.0\n",
              "5       25500.0\n",
              "6       21200.0\n",
              "         ...   \n",
              "7404    48000.0\n",
              "7422    18500.0\n",
              "7433    28000.0\n",
              "7445    49800.0\n",
              "7464    22914.0\n",
              "Name: price, Length: 1616, dtype: float64"
            ]
          },
          "metadata": {},
          "execution_count": 21
        }
      ]
    },
    {
      "cell_type": "code",
      "source": [
        "plt.figure(figsize=(10,6))\n",
        "sns.scatterplot(data=housing, x='size', y='price')\n",
        "plt.show()"
      ],
      "metadata": {
        "colab": {
          "base_uri": "https://localhost:8080/",
          "height": 388
        },
        "id": "kKbB4ReZMoIS",
        "outputId": "0aa15323-15c8-4bdc-b07f-907886b67da9"
      },
      "execution_count": 22,
      "outputs": [
        {
          "output_type": "display_data",
          "data": {
            "text/plain": [
              "<Figure size 720x432 with 1 Axes>"
            ],
            "image/png": "[encoded data removed]"
          },
          "metadata": {
            "needs_background": "light"
          }
        }
      ]
    },
    {
      "cell_type": "code",
      "source": [
        "plt.figure(figsize=(10,6))\n",
        "sns.regplot(data=housing, x='size', y='price', line_kws={\"color\": \"red\"})\n",
        "plt.show()"
      ],
      "metadata": {
        "colab": {
          "base_uri": "https://localhost:8080/",
          "height": 388
        },
        "id": "IkSzCFDbMrKs",
        "outputId": "131c3cb4-31a6-46ac-9142-95e31631a348"
      },
      "execution_count": 23,
      "outputs": [
        {
          "output_type": "display_data",
          "data": {
            "text/plain": [
              "<Figure size 720x432 with 1 Axes>"
            ],
            "image/png": "[encoded data removed]"
          },
          "metadata": {
            "needs_background": "light"
          }
        }
      ]
    },
    {
      "cell_type": "code",
      "source": [
        "def estimate_coef(x, y):\n",
        "    # number of observations/points\n",
        "    n = np.size(x)\n",
        " \n",
        "    # mean of x and y vector\n",
        "    m_x = np.mean(x)\n",
        "    m_y = np.mean(y)\n",
        " \n",
        "    # calculating cross-deviation and deviation about x\n",
        "    SS_xy = np.sum(y*x) - n*m_y*m_x\n",
        "    SS_xx = np.sum(x*x) - n*m_x*m_x\n",
        " \n",
        "    # calculating regression coefficients\n",
        "    b_1 = SS_xy / SS_xx\n",
        "    b_0 = m_y - b_1*m_x\n",
        " \n",
        "    return (b_0, b_1)\n",
        " \n",
        "estimate_coef(x,y)"
      ],
      "metadata": {
        "colab": {
          "base_uri": "https://localhost:8080/"
        },
        "id": "-PDgummcOZp1",
        "outputId": "77aec932-2ac1-4fba-886b-eba869d1ca9d"
      },
      "execution_count": 33,
      "outputs": [
        {
          "output_type": "execute_result",
          "data": {
            "text/plain": [
              "(-195.9491135266726, 740.026482271325)"
            ]
          },
          "metadata": {},
          "execution_count": 33
        }
      ]
    },
    {
      "cell_type": "code",
      "source": [
        "x_sample = x.sample(500)"
      ],
      "metadata": {
        "id": "tTqhki5JQ-gj"
      },
      "execution_count": 30,
      "outputs": []
    },
    {
      "cell_type": "code",
      "source": [
        "x_sample"
      ],
      "metadata": {
        "colab": {
          "base_uri": "https://localhost:8080/"
        },
        "id": "n7_0ah52Rhc_",
        "outputId": "a31f3f2a-357e-4d0c-c24a-69eb230df64a"
      },
      "execution_count": 31,
      "outputs": [
        {
          "output_type": "execute_result",
          "data": {
            "text/plain": [
              "4154    47.0\n",
              "802     60.0\n",
              "7013    50.0\n",
              "524     51.0\n",
              "526     51.0\n",
              "        ... \n",
              "888     72.0\n",
              "6240    46.0\n",
              "6761    91.0\n",
              "7134    65.0\n",
              "3419    42.0\n",
              "Name: size, Length: 500, dtype: float64"
            ]
          },
          "metadata": {},
          "execution_count": 31
        }
      ]
    },
    {
      "cell_type": "code",
      "source": [
        "estimate_coef(x_sample,y)[1]"
      ],
      "metadata": {
        "colab": {
          "base_uri": "https://localhost:8080/"
        },
        "id": "eS56IWGbRign",
        "outputId": "cef8f63e-6d07-4e46-8706-3cf1803ec7f8"
      },
      "execution_count": 32,
      "outputs": [
        {
          "output_type": "execute_result",
          "data": {
            "text/plain": [
              "811.6069511901151"
            ]
          },
          "metadata": {},
          "execution_count": 32
        }
      ]
    },
    {
      "cell_type": "code",
      "source": [
        "d = y - estimate_coef(x_sample,y)[1]\n",
        "mse_f = np.mean(d**2)\n",
        "mae_f = np.mean(abs(d))\n",
        "rmse_f = np.sqrt(mse_f)"
      ],
      "metadata": {
        "id": "oB-LkvpFRm4m"
      },
      "execution_count": 48,
      "outputs": []
    },
    {
      "cell_type": "code",
      "source": [
        "mae_f = np.mean(abs(d))\n",
        "rmse_f = np.sqrt(mse_f)"
      ],
      "metadata": {
        "id": "wmXp4_2ASPa2"
      },
      "execution_count": 49,
      "outputs": []
    },
    {
      "cell_type": "code",
      "source": [
        "mae_f"
      ],
      "metadata": {
        "colab": {
          "base_uri": "https://localhost:8080/"
        },
        "id": "mkkl4-onSZtd",
        "outputId": "25c04177-b2ec-42c4-ec63-f52bb053db3e"
      },
      "execution_count": 50,
      "outputs": [
        {
          "output_type": "execute_result",
          "data": {
            "text/plain": [
              "44805.88067257157"
            ]
          },
          "metadata": {},
          "execution_count": 50
        }
      ]
    },
    {
      "cell_type": "code",
      "source": [
        "rmse_f"
      ],
      "metadata": {
        "colab": {
          "base_uri": "https://localhost:8080/"
        },
        "id": "BGQUJY9LS2fA",
        "outputId": "34c116b1-a327-4f61-cc9f-c108bc22ac9e"
      },
      "execution_count": 51,
      "outputs": [
        {
          "output_type": "execute_result",
          "data": {
            "text/plain": [
              "50236.97086162796"
            ]
          },
          "metadata": {},
          "execution_count": 51
        }
      ]
    },
    {
      "cell_type": "code",
      "source": [
        ""
      ],
      "metadata": {
        "id": "M4GrjfTOS7Oe"
      },
      "execution_count": null,
      "outputs": []
    }
  ]
}